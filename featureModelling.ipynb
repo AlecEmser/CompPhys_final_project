{
 "metadata": {
  "language_info": {
   "codemirror_mode": {
    "name": "ipython",
    "version": 3
   },
   "file_extension": ".py",
   "mimetype": "text/x-python",
   "name": "python",
   "nbconvert_exporter": "python",
   "pygments_lexer": "ipython3",
   "version": "3.8.6"
  },
  "orig_nbformat": 2,
  "kernelspec": {
   "name": "python386jvsc74a57bd0fb8892d88219d2f5bb2ce193ccab657f60648a5dd672ea1ef1a37cf841ca2b2d",
   "display_name": "Python 3.8.6 64-bit ('analysis': conda)"
  }
 },
 "nbformat": 4,
 "nbformat_minor": 2,
 "cells": [
  {
   "cell_type": "code",
   "execution_count": null,
   "metadata": {},
   "outputs": [],
   "source": [
    "import numpy as np\n",
    "import pandas as pd\n",
    "import matplotlib.pyplot as plt\n",
    "import seaborn as sns\n",
    "import pickle as pkl\n",
    "from sklearn.linear_model import LogisticRegression, LinearRegression\n",
    "from sklearn.preprocessing import StandardScaler"
   ]
  },
  {
   "cell_type": "code",
   "execution_count": null,
   "metadata": {},
   "outputs": [],
   "source": [
    "with open('Data/train_data_v2.pickle', 'rb') as file:\n",
    "    X,y,z = pkl.load(file)\n",
    "\n",
    "features = [\n",
    "        'fj_jetNTracks',\n",
    "        'fj_nSV',\n",
    "        'fj_tau0_trackEtaRel_0',\n",
    "        'fj_tau0_trackEtaRel_1',\n",
    "        'fj_tau0_trackEtaRel_2',\n",
    "        'fj_tau1_trackEtaRel_0',\n",
    "        'fj_tau1_trackEtaRel_1',\n",
    "        'fj_tau1_trackEtaRel_2',\n",
    "        'fj_tau_flightDistance2dSig_0',\n",
    "        'fj_tau_flightDistance2dSig_1',\n",
    "        'fj_tau_vertexDeltaR_0',\n",
    "        'fj_tau_vertexEnergyRatio_0',\n",
    "        'fj_tau_vertexEnergyRatio_1',\n",
    "        'fj_tau_vertexMass_0',\n",
    "        'fj_tau_vertexMass_1',\n",
    "        'fj_trackSip2dSigAboveBottom_0',\n",
    "        'fj_trackSip2dSigAboveBottom_1',\n",
    "        'fj_trackSip2dSigAboveCharm_0',\n",
    "        'fj_trackSipdSig_0',\n",
    "        'fj_trackSipdSig_0_0',\n",
    "        'fj_trackSipdSig_0_1',\n",
    "        'fj_trackSipdSig_1',\n",
    "        'fj_trackSipdSig_1_0',\n",
    "        'fj_trackSipdSig_1_1',\n",
    "        'fj_trackSipdSig_2',\n",
    "        'fj_trackSipdSig_3',\n",
    "        'fj_z_ratio',\n",
    "    ]"
   ]
  },
  {
   "cell_type": "code",
   "execution_count": null,
   "metadata": {},
   "outputs": [],
   "source": [
    "min_max_scaler = preprocessing.StandardScaler()\n",
    "X_scaled = min_max_scaler.fit_transform(X)"
   ]
  },
  {
   "cell_type": "code",
   "execution_count": null,
   "metadata": {},
   "outputs": [],
   "source": [
    "model = LogisticRegression()\n",
    "model.fit(X_scaled,y)"
   ]
  },
  {
   "cell_type": "code",
   "execution_count": null,
   "metadata": {},
   "outputs": [],
   "source": [
    "feat_imp = abs(model.coef_[0])\n",
    "\n",
    "f1, ax1 = plt.subplots(figsize=(10, 10))\n",
    "plt.bar(features, feat_imp)\n",
    "ax1.set_xticklabels(\n",
    "    features,\n",
    "    rotation=60,\n",
    "    horizontalalignment='right'\n",
    ")\n",
    "ax1.set_title('Feature Importance')\n",
    "ax1.set_ylabel('Normalized Importance (A.U.)')\n",
    "plt.show()"
   ]
  },
  {
   "cell_type": "code",
   "execution_count": null,
   "metadata": {},
   "outputs": [],
   "source": [
    "df = pd.DataFrame(X_scaled, columns=features)\n",
    "corr = df.corr()\n",
    "mask = np.triu(np.ones_like(corr, dtype=bool))\n",
    "f, ax = plt.subplots(figsize=(10, 10))\n",
    "ax.set_title('Feature Correlation Matrix')\n",
    "ax = sns.heatmap(\n",
    "    corr, \n",
    "    mask=mask,\n",
    "    xticklabels=True, \n",
    "    yticklabels=True,\n",
    "    vmin=0, vmax=1, center=0.5,\n",
    "    cmap=sns.color_palette(\"YlOrBr\", as_cmap=True),\n",
    "    linewidths=1,\n",
    "    square=True\n",
    ")\n",
    "ax.set_xticklabels(\n",
    "    ax.get_xticklabels(),\n",
    "    rotation=60,\n",
    "    horizontalalignment='right'\n",
    ");"
   ]
  },
  {
   "cell_type": "code",
   "execution_count": null,
   "metadata": {},
   "outputs": [],
   "source": []
  }
 ]
}