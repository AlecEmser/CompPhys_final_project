{
 "cells": [
  {
   "cell_type": "markdown",
   "id": "5a547bdd",
   "metadata": {},
   "source": [
    "# Performance Analysis #"
   ]
  },
  {
   "cell_type": "code",
   "execution_count": 1,
   "id": "9c59eb04",
   "metadata": {},
   "outputs": [
    {
     "name": "stdout",
     "output_type": "stream",
     "text": [
      "INFO:tensorflow:Enabling eager execution\n",
      "INFO:tensorflow:Enabling v2 tensorshape\n",
      "INFO:tensorflow:Enabling resource variables\n",
      "INFO:tensorflow:Enabling tensor equality\n",
      "INFO:tensorflow:Enabling control flow v2\n",
      "Using matplotlib backend: Qt5Agg\n"
     ]
    }
   ],
   "source": [
    "from matplotlib import pyplot as plt\n",
    "import numpy as np\n",
    "from os.path import join\n",
    "import pandas as pd\n",
    "import pickle as pkl\n",
    "from tensorflow.keras.models import load_model\n",
    "from sklearn.metrics import roc_curve, auc\n",
    "from sklearn import decomposition\n",
    "%matplotlib auto"
   ]
  },
  {
   "cell_type": "code",
   "execution_count": 2,
   "id": "da1c1292",
   "metadata": {},
   "outputs": [],
   "source": [
    "#Change file names if different\n",
    "model_name = 'nn_model_v2.h5'\n",
    "train_data = 'train_data_v2.pickle'\n",
    "test_data  = 'test_data_v2.pickle'"
   ]
  },
  {
   "cell_type": "code",
   "execution_count": 3,
   "id": "990185e0",
   "metadata": {},
   "outputs": [
    {
     "name": "stdout",
     "output_type": "stream",
     "text": [
      "Evaluating training data ... \n",
      "12500/12500 [==============================] - 7s 454us/step - loss: 0.3194 - accuracy: 0.8781\n",
      "Evaluating test data ... \n",
      "6250/6250 [==============================] - 3s 479us/step - loss: 0.3201 - accuracy: 0.8778\n"
     ]
    }
   ],
   "source": [
    "model_NN = load_model(join('Models',model_name))\n",
    "    \n",
    "#read in pickled training data\n",
    "with open(join('Data',train_data), 'rb') as file:\n",
    "    X_train, y_train, _ = pkl.load(file)\n",
    "    \n",
    "#read in pickled testing data\n",
    "with open(join('Data',test_data), 'rb') as file:\n",
    "    X_test, y_test, _ = pkl.load(file)\n",
    "\n",
    "#Get absolute accuracy evaluations for train, test data\n",
    "print(\"Evaluating training data ... \")\n",
    "train_acc = model_NN.evaluate(X_train, y_train)\n",
    "print(\"Evaluating test data ... \")\n",
    "test_acc = model_NN.evaluate(X_test, y_test)\n",
    "\n",
    "#Make predictions on test data to generate ROC curve\n",
    "y_pred = model_NN.predict(X_test).ravel() #Use the loaded model to make predictions on test data\n",
    "fpr, tpr, thresh = roc_curve(y_test, y_pred) #false positive rate, true positive rate\n",
    "AUC = auc(fpr, tpr) #calculate area under curve\n",
    "\n",
    "#Load comparison data\n",
    "DDB = np.loadtxt(join('PlotFiles','DeepDoubleB.csv'),delimiter=',')\n",
    "\n",
    "#Plot ROC curve\n",
    "plt.figure(figsize=(8,6))\n",
    "plt.plot(tpr,fpr, label='Zipper-Emser AUC: %0.1f%%'%(AUC*100))\n",
    "plt.plot(DDB[:,0],DDB[:,1], label='DeepDoubleBVL AUC: 97.3%')\n",
    "plt.xlabel('Tagging Efficiency')\n",
    "plt.ylabel('Mistagging Rate')\n",
    "plt.xlim(0.,1.0)\n",
    "plt.ylim(1e-3,1.0)\n",
    "plt.grid(True, which=\"both\",color='0.7',zorder=0)\n",
    "plt.yscale(\"log\")\n",
    "plt.title('ROC curve')\n",
    "plt.legend(loc='best',framealpha=0.95)\n",
    "plt.show()"
   ]
  },
  {
   "cell_type": "code",
   "execution_count": null,
   "id": "d65786e8",
   "metadata": {},
   "outputs": [],
   "source": []
  }
 ],
 "metadata": {
  "kernelspec": {
   "display_name": "Python 3",
   "language": "python",
   "name": "python3"
  },
  "language_info": {
   "codemirror_mode": {
    "name": "ipython",
    "version": 3
   },
   "file_extension": ".py",
   "mimetype": "text/x-python",
   "name": "python",
   "nbconvert_exporter": "python",
   "pygments_lexer": "ipython3",
   "version": "3.9.4"
  }
 },
 "nbformat": 4,
 "nbformat_minor": 5
}
